{
 "cells": [
  {
   "cell_type": "code",
   "execution_count": 2,
   "id": "e95fadbb",
   "metadata": {},
   "outputs": [],
   "source": [
    "import cv2\n",
    "import os\n",
    "import glob\n",
    "import numpy as np"
   ]
  },
  {
   "cell_type": "code",
   "execution_count": 3,
   "id": "84c6bb74",
   "metadata": {},
   "outputs": [],
   "source": [
    "def data_preprocessing(filepath):\n",
    "    labels = []\n",
    "    tiny_imgs = []\n",
    "    for label in os.listdir(filepath):\n",
    "        imgs = glob.glob(os.path.join(filepath, label)+\"/*.jpg\")\n",
    "        for img in imgs:\n",
    "            img = cv2.imread(img,cv2.IMREAD_GRAYSCALE)\n",
    "            img = cv2.resize(img,(16,16))\n",
    "            tiny_imgs.append(img)\n",
    "            labels.append(label)\n",
    "    return tiny_imgs, labels"
   ]
  },
  {
   "cell_type": "code",
   "execution_count": 4,
   "id": "646ada70",
   "metadata": {},
   "outputs": [],
   "source": [
    "def cal_accuracy(pred_label, test_label):\n",
    "    return np.sum(pred_label == test_label) / len(test_label)"
   ]
  },
  {
   "cell_type": "code",
   "execution_count": 16,
   "id": "e8b6bf34",
   "metadata": {},
   "outputs": [],
   "source": [
    "def knn(train_set, train_label, test_set, k=10):\n",
    "    pred_label = []\n",
    "    for test_img in test_set:\n",
    "#         dis = (abs(train_set-test_img)).sum(axis=1)\n",
    "        dis = ((train_set - test_img)**2).sum(axis=1)**0.5\n",
    "        sort_index = dis.argsort()[:k]\n",
    "        knn_labels = []\n",
    "        for i in sort_index:\n",
    "            knn_labels.append(train_label[i])\n",
    "        values, counts = np.unique(knn_labels, return_counts=True)\n",
    "        ind = np.argmax(counts)\n",
    "        pred_label.append(values[ind])\n",
    "    return pred_label"
   ]
  },
  {
   "cell_type": "markdown",
   "id": "caeea966",
   "metadata": {},
   "source": [
    "### 1.Tiny images representation + nearest neighbor classifier"
   ]
  },
  {
   "cell_type": "code",
   "execution_count": 13,
   "id": "3e42dc01",
   "metadata": {
    "scrolled": false
   },
   "outputs": [
    {
     "name": "stdout",
     "output_type": "stream",
     "text": [
      "(1500, 256)\n",
      "(150, 256)\n",
      "0.17333333333333334\n",
      "4\n"
     ]
    }
   ],
   "source": [
    "train_set, train_label = data_preprocessing('hw5_data/train/')\n",
    "train_set = np.array(train_set)\n",
    "train_set = train_set.reshape(train_set.shape[0], -1)\n",
    "test_set, test_label = data_preprocessing('hw5_data/test/')\n",
    "test_set = np.array(test_set)\n",
    "test_set = test_set.reshape(test_set.shape[0], -1)\n",
    "print(train_set.shape)\n",
    "print(test_set.shape)\n",
    "best_k = 0\n",
    "which_k = 0\n",
    "for k in range(3,50):\n",
    "    pred_label = knn(train_set, train_label, test_set, k=k)\n",
    "    a = cal_accuracy(np.array(pred_label), np.array(test_label))\n",
    "#     print(k, a)\n",
    "    if a > best_k:\n",
    "        best_k = a\n",
    "        which_k =k\n",
    "print(best_k)\n",
    "print(which_k)"
   ]
  },
  {
   "cell_type": "code",
   "execution_count": 17,
   "id": "738af3f9",
   "metadata": {},
   "outputs": [
    {
     "name": "stdout",
     "output_type": "stream",
     "text": [
      "(1500, 256)\n",
      "(150, 256)\n",
      "0.21333333333333335\n",
      "26\n"
     ]
    }
   ],
   "source": [
    "train_set, train_label = data_preprocessing('hw5_data/train/')\n",
    "train_set = np.array(train_set)\n",
    "train_set = train_set.reshape(train_set.shape[0], -1)\n",
    "test_set, test_label = data_preprocessing('hw5_data/test/')\n",
    "test_set = np.array(test_set)\n",
    "test_set = test_set.reshape(test_set.shape[0], -1)\n",
    "print(train_set.shape)\n",
    "print(test_set.shape)\n",
    "best_k = 0\n",
    "which_k = 0\n",
    "for k in range(3,50):\n",
    "    pred_label = knn(train_set, train_label, test_set, k=k)\n",
    "    a = cal_accuracy(np.array(pred_label), np.array(test_label))\n",
    "#     print(k, a)\n",
    "    if a > best_k:\n",
    "        best_k = a\n",
    "        which_k =k\n",
    "print(best_k)\n",
    "print(which_k)"
   ]
  },
  {
   "cell_type": "code",
   "execution_count": null,
   "id": "02f1e76b",
   "metadata": {},
   "outputs": [],
   "source": []
  }
 ],
 "metadata": {
  "kernelspec": {
   "display_name": "Python 3",
   "language": "python",
   "name": "python3"
  },
  "language_info": {
   "codemirror_mode": {
    "name": "ipython",
    "version": 3
   },
   "file_extension": ".py",
   "mimetype": "text/x-python",
   "name": "python",
   "nbconvert_exporter": "python",
   "pygments_lexer": "ipython3",
   "version": "3.6.9"
  }
 },
 "nbformat": 4,
 "nbformat_minor": 5
}
